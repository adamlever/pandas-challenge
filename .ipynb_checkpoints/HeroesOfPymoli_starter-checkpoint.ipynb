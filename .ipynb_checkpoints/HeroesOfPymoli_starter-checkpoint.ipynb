{
 "cells": [
  {
   "cell_type": "markdown",
   "metadata": {},
   "source": [
    "### Note\n",
    "* Instructions have been included for each segment. You do not have to follow them exactly, but they are included to help you think through the steps."
   ]
  },
  {
   "cell_type": "code",
   "execution_count": null,
   "metadata": {},
   "outputs": [],
   "source": [
    "# Dependencies and Setup\n",
    "import pandas as pd\n",
    "import numpy as np\n",
    "\n",
    "# File to Load (Remember to Change These)\n",
    "file_to_load = \"Resources/purchase_data.csv\"\n",
    "\n",
    "# Read Purchasing File and store into Pandas data frame\n",
    "purchase_data = pd.read_csv(file_to_load)\n",
    "\n",
    "# Show top of data\n",
    "purchase_data.head()"
   ]
  },
  {
   "cell_type": "markdown",
   "metadata": {},
   "source": [
    "## Player Count"
   ]
  },
  {
   "cell_type": "markdown",
   "metadata": {},
   "source": [
    "* Display the total number of players\n"
   ]
  },
  {
   "cell_type": "code",
   "execution_count": null,
   "metadata": {},
   "outputs": [],
   "source": [
    "# Calculate Total Players\n",
    "total_players = purchase_data['SN'].nunique() \n",
    "\n",
    "# Create a data frame containing Total Players\n",
    "total_players_df = pd.DataFrame({\"Total Players\": [total_players]})\n",
    "\n",
    "# Display data frame\n",
    "total_players_df\n"
   ]
  },
  {
   "cell_type": "markdown",
   "metadata": {},
   "source": [
    "## Purchasing Analysis (Total)"
   ]
  },
  {
   "cell_type": "markdown",
   "metadata": {},
   "source": [
    "* Run basic calculations to obtain number of unique items, average price, etc.\n",
    "\n",
    "\n",
    "* Create a summary data frame to hold the results\n",
    "\n",
    "\n",
    "* Optional: give the displayed data cleaner formatting\n",
    "\n",
    "\n",
    "* Display the summary data frame\n"
   ]
  },
  {
   "cell_type": "code",
   "execution_count": null,
   "metadata": {},
   "outputs": [],
   "source": [
    "# Calculate unique items, average price, number of purchases and total revenue\n",
    "unique_items = purchase_data['Item ID'].nunique() \n",
    "average_price = purchase_data['Price'].mean() \n",
    "number_of_purchases = purchase_data['Purchase ID'].count() \n",
    "total_revenue = purchase_data['Price'].sum()\n",
    "\n",
    "# Create a data frame to hold the summary results\n",
    "summary_table_df = pd.DataFrame({\"Number of Unique Items\": [unique_items], \"Average Price\": [average_price], \n",
    "                                 \"Number of Purchases\": [number_of_purchases], \"Total Revenue\": [total_revenue]})\n",
    "\n",
    "# Format results\n",
    "summary_table_df[\"Average Price\"] = summary_table_df[\"Average Price\"].map(\"${:,.2f}\".format)\n",
    "summary_table_df[\"Total Revenue\"] = summary_table_df[\"Total Revenue\"].map(\"${:,.2f}\".format)\n",
    "\n",
    "# Display summary table data frame\n",
    "summary_table_df\n"
   ]
  },
  {
   "cell_type": "markdown",
   "metadata": {},
   "source": [
    "## Gender Demographics"
   ]
  },
  {
   "cell_type": "markdown",
   "metadata": {},
   "source": [
    "* Percentage and Count of Male Players\n",
    "\n",
    "\n",
    "* Percentage and Count of Female Players\n",
    "\n",
    "\n",
    "* Percentage and Count of Other / Non-Disclosed\n",
    "\n",
    "\n"
   ]
  },
  {
   "cell_type": "code",
   "execution_count": null,
   "metadata": {},
   "outputs": [],
   "source": [
    "# Create gender series from original purchase data with GroupBy\n",
    "gender_demographics = purchase_data.groupby(['Gender'])\n",
    "\n",
    "# Reduce gender series to the unique players\n",
    "gender_demographics = gender_demographics['SN'].nunique()\n",
    "\n",
    "# Create gender demographics data frame\n",
    "gender_demographics_df = pd.DataFrame(gender_demographics)\n",
    "\n",
    "# Rename column in data frame\n",
    "gender_demographics_df = gender_demographics_df.rename(columns={'SN': 'Total Count'})\n",
    "\n",
    "# Add in percentage of players column and calculate percentage of genders\n",
    "gender_demographics_df[\"Percentage of Players\"] = (gender_demographics_df[\"Total Count\"])/(total_players)\n",
    "\n",
    "# Change percentage format\n",
    "gender_demographics_df[\"Percentage of Players\"] = gender_demographics_df[\"Percentage of Players\"].map(\"{:,.2%}\".format)\n",
    "\n",
    "# Sort values to descending order\n",
    "gender_demographics_df = gender_demographics_df.sort_values(\"Total Count\", ascending=False)\n",
    "\n",
    "# Display gender demographics summary table\n",
    "gender_demographics_df\n"
   ]
  },
  {
   "cell_type": "markdown",
   "metadata": {},
   "source": [
    "\n",
    "## Purchasing Analysis (Gender)"
   ]
  },
  {
   "cell_type": "markdown",
   "metadata": {},
   "source": [
    "* Run basic calculations to obtain purchase count, avg. purchase price, avg. purchase total per person etc. by gender\n",
    "\n",
    "\n",
    "\n",
    "\n",
    "* Create a summary data frame to hold the results\n",
    "\n",
    "\n",
    "* Optional: give the displayed data cleaner formatting\n",
    "\n",
    "\n",
    "* Display the summary data frame"
   ]
  },
  {
   "cell_type": "code",
   "execution_count": null,
   "metadata": {},
   "outputs": [],
   "source": [
    "# Calculate purchase count, average purchase price, total purchase value per person and average total purchase per person within genders\n",
    "purchase_count = purchase_data.groupby([\"Gender\"]).count()[\"Price\"]\n",
    "average_purchase_price = purchase_data.groupby([\"Gender\"]).mean()[\"Price\"]\n",
    "total_purchase_value = purchase_data.groupby([\"Gender\"]).sum()[\"Price\"]\n",
    "avg_total_purchase_per_person = total_purchase_value / gender_demographics_df[\"Total Count\"]\n",
    "\n",
    "# Create data frame to hold above purchasing analysis\n",
    "purchasing_analysis_df = pd.DataFrame({\"Purchase Count\": purchase_count,\n",
    "                                       \"Average Purchase Price\": average_purchase_price,\n",
    "                                       \"Total Purchase Value\": total_purchase_value,\n",
    "                                       \"Avg Total Purchase per Person\": avg_total_purchase_per_person})\n",
    "\n",
    "# Name the data frame index as Gender\n",
    "purchasing_analysis_df.index.name = \"Gender\"\n",
    "\n",
    "# Format data\n",
    "purchasing_analysis_df[\"Average Purchase Price\"] = purchasing_analysis_df[\"Average Purchase Price\"].map(\"${:,.2f}\".format)\n",
    "purchasing_analysis_df[\"Total Purchase Value\"] = purchasing_analysis_df[\"Total Purchase Value\"].map(\"${:,.2f}\".format)\n",
    "purchasing_analysis_df[\"Avg Total Purchase per Person\"] = purchasing_analysis_df[\"Avg Total Purchase per Person\"].map(\"${:,.2f}\".format)\n",
    "\n",
    "# Display purchasing analysis data frame\n",
    "purchasing_analysis_df"
   ]
  },
  {
   "cell_type": "markdown",
   "metadata": {},
   "source": [
    "## Age Demographics"
   ]
  },
  {
   "cell_type": "markdown",
   "metadata": {},
   "source": [
    "* Establish bins for ages\n",
    "\n",
    "\n",
    "* Categorize the existing players using the age bins. Hint: use pd.cut()\n",
    "\n",
    "\n",
    "* Calculate the numbers and percentages by age group\n",
    "\n",
    "\n",
    "* Create a summary data frame to hold the results\n",
    "\n",
    "\n",
    "* Optional: round the percentage column to two decimal points\n",
    "\n",
    "\n",
    "* Display Age Demographics Table\n"
   ]
  },
  {
   "cell_type": "code",
   "execution_count": null,
   "metadata": {},
   "outputs": [],
   "source": [
    "# Create the bins in which Data will be held\n",
    "bins = [0, 9.9, 14, 19, 24, 29, 34, 39, 50]\n",
    "\n",
    "# Create the names for the eight bins\n",
    "group_names =[\"<10\", \"10-14\", \"15-19\", \"20-24\", \"25-29\", \"30-34\", \"35-39\", \"40+\"]\n",
    "\n",
    "# Assign an age group to each purchase from the original data\n",
    "purchase_data[\"Age Group\"] = pd.cut(purchase_data[\"Age\"], bins, labels=group_names, include_lowest=True)\n",
    "\n",
    "# Group the purchase data by age group using groupby\n",
    "purchase_data_grouped = purchase_data.groupby(\"Age Group\")\n",
    "\n",
    "# Keep only each unique purchaser \n",
    "unique_age_grouped = purchase_data_grouped[\"SN\"].nunique()\n",
    "\n",
    "# Calculate percentage of each age group\n",
    "age_group_percentage = (unique_age_grouped) / (total_players) * 100\n",
    "\n",
    "# Create age demographics data frame and format percentage column\n",
    "age_demographics_df = pd.DataFrame({\"Total Count\": unique_age_grouped,\n",
    "                                    \"Percentage of Players\": age_group_percentage.map(\"{:,.2f}%\".format)})\n",
    "\n",
    "# Display age demographics data frame\n",
    "age_demographics_df"
   ]
  },
  {
   "cell_type": "markdown",
   "metadata": {},
   "source": [
    "## Purchasing Analysis (Age)"
   ]
  },
  {
   "cell_type": "markdown",
   "metadata": {},
   "source": [
    "* Bin the purchase_data data frame by age\n",
    "\n",
    "\n",
    "* Run basic calculations to obtain purchase count, avg. purchase price, avg. purchase total per person etc. in the table below\n",
    "\n",
    "\n",
    "* Create a summary data frame to hold the results\n",
    "\n",
    "\n",
    "* Optional: give the displayed data cleaner formatting\n",
    "\n",
    "\n",
    "* Display the summary data frame"
   ]
  },
  {
   "cell_type": "code",
   "execution_count": null,
   "metadata": {},
   "outputs": [],
   "source": [
    "# Calculate purchase count, average purchase price, total purchase value per person and average total purchase per person within the age groups\n",
    "purchase_count_age = purchase_data_grouped[\"Purchase ID\"].count()\n",
    "average_purchase_price_age = purchase_data_grouped['Price'].mean()\n",
    "total_purchase_value_age = purchase_data_grouped['Price'].sum()\n",
    "avg_total_purchase_per_person_age = total_purchase_value_age / unique_age_grouped\n",
    "\n",
    "# Create data frame to hold above purchasing analysis\n",
    "purchasing_analysis_age_df = pd.DataFrame({\"Purchase Count\": purchase_count_age,\n",
    "                                           \"Average Purchase Price\": average_purchase_price_age,\n",
    "                                           \"Total Purchase Value\": total_purchase_value_age,\n",
    "                                           \"Avg Total Purchase per Person\": avg_total_purchase_per_person_age})\n",
    "\n",
    "# Format data\n",
    "purchasing_analysis_age_df[\"Average Purchase Price\"] = purchasing_analysis_age_df[\"Average Purchase Price\"].map(\"${:,.2f}\".format)\n",
    "purchasing_analysis_age_df[\"Total Purchase Value\"] = purchasing_analysis_age_df[\"Total Purchase Value\"].map(\"${:,.2f}\".format)\n",
    "purchasing_analysis_age_df[\"Avg Total Purchase per Person\"] = purchasing_analysis_age_df[\"Avg Total Purchase per Person\"].map(\"${:,.2f}\".format)\n",
    "\n",
    "# Display purchasing analysis by age group data frame\n",
    "purchasing_analysis_age_df"
   ]
  },
  {
   "cell_type": "markdown",
   "metadata": {},
   "source": [
    "## Top Spenders"
   ]
  },
  {
   "cell_type": "markdown",
   "metadata": {},
   "source": [
    "* Run basic calculations to obtain the results in the table below\n",
    "\n",
    "\n",
    "* Create a summary data frame to hold the results\n",
    "\n",
    "\n",
    "* Sort the total purchase value column in descending order\n",
    "\n",
    "\n",
    "* Optional: give the displayed data cleaner formatting\n",
    "\n",
    "\n",
    "* Display a preview of the summary data frame\n",
    "\n"
   ]
  },
  {
   "cell_type": "code",
   "execution_count": null,
   "metadata": {},
   "outputs": [],
   "source": [
    "# Group purchase data by SN with groupby\n",
    "spenders = purchase_data.groupby(['SN'])\n",
    "\n",
    "# Calculate purchase count, average purchase price and total purchase value per person\n",
    "purchase_count_spenders = spenders[\"Purchase ID\"].count()\n",
    "average_purchase_price_spenders = spenders['Price'].mean()\n",
    "total_purchase_value_spenders = spenders['Price'].sum()\n",
    "\n",
    "# Create data frame to hold above calculations\n",
    "top_spenders_df = pd.DataFrame({\"Purchase Count\": purchase_count_spenders,\n",
    "                                \"Average Purchase Price\": average_purchase_price_spenders,\n",
    "                                \"Total Purchase Value\": total_purchase_value_spenders})\n",
    "\n",
    "# Sort data frame by total purchase value in descending order\n",
    "top_spenders_sorted_df = top_spenders_df.sort_values(\"Total Purchase Value\", ascending=False)\n",
    "\n",
    "# Format data\n",
    "top_spenders_sorted_df[\"Average Purchase Price\"] = top_spenders_sorted_df[\"Average Purchase Price\"].map(\"${:,.2f}\".format)\n",
    "top_spenders_sorted_df[\"Total Purchase Value\"] = top_spenders_sorted_df[\"Total Purchase Value\"].map(\"${:,.2f}\".format)\n",
    "\n",
    "# Display preview of purchasing analysis by spenders\n",
    "top_spenders_sorted_df.head(5)"
   ]
  },
  {
   "cell_type": "markdown",
   "metadata": {},
   "source": [
    "## Most Popular Items"
   ]
  },
  {
   "cell_type": "markdown",
   "metadata": {},
   "source": [
    "* Retrieve the Item ID, Item Name, and Item Price columns\n",
    "\n",
    "\n",
    "* Group by Item ID and Item Name. Perform calculations to obtain purchase count, item price, and total purchase value\n",
    "\n",
    "\n",
    "* Create a summary data frame to hold the results\n",
    "\n",
    "\n",
    "* Sort the purchase count column in descending order\n",
    "\n",
    "\n",
    "* Optional: give the displayed data cleaner formatting\n",
    "\n",
    "\n",
    "* Display a preview of the summary data frame\n",
    "\n"
   ]
  },
  {
   "cell_type": "code",
   "execution_count": null,
   "metadata": {},
   "outputs": [],
   "source": [
    "# Retrieve Item ID, Item Name, and Item Price columns\n",
    "items = purchase_data[[\"Item ID\", \"Item Name\", \"Price\"]]\n",
    "\n",
    "# Group purchase data by item ID and item name with groupby\n",
    "popular_items = purchase_data.groupby(['Item ID', 'Item Name'])\n",
    "\n",
    "# Calculate purchase count, item price and total purchase value\n",
    "purchase_count_items = popular_items[\"Purchase ID\"].count()\n",
    "item_price_items = popular_items['Price'].mean()\n",
    "total_purchase_value_items = popular_items['Price'].sum()\n",
    "\n",
    "# Create data frame to hold above calculations\n",
    "popular_items_df = pd.DataFrame({\"Purchase Count\": purchase_count_items,\n",
    "                                \"Item Price\": item_price_items,\n",
    "                                \"Total Purchase Value\": total_purchase_value_items})\n",
    "\n",
    "# Sort data frame by purchase count in descending order\n",
    "popular_items_df = popular_items_df.sort_values(\"Purchase Count\", ascending=False)\n",
    "\n",
    "# Format data\n",
    "popular_items_df[\"Item Price\"] = popular_items_df[\"Item Price\"].map(\"${:,.2f}\".format)\n",
    "popular_items_df[\"Total Purchase Value\"] = popular_items_df[\"Total Purchase Value\"].map(\"${:,.2f}\".format)\n",
    "\n",
    "# Display preview of purchasing analysis by most popular items\n",
    "popular_items_df.head(5)"
   ]
  },
  {
   "cell_type": "markdown",
   "metadata": {},
   "source": [
    "## Most Profitable Items"
   ]
  },
  {
   "cell_type": "markdown",
   "metadata": {},
   "source": [
    "* Sort the above table by total purchase value in descending order\n",
    "\n",
    "\n",
    "* Optional: give the displayed data cleaner formatting\n",
    "\n",
    "\n",
    "* Display a preview of the data frame\n",
    "\n"
   ]
  },
  {
   "cell_type": "code",
   "execution_count": null,
   "metadata": {
    "scrolled": true
   },
   "outputs": [],
   "source": [
    "# Create data frame to hold above calculations\n",
    "profitable_items_df = pd.DataFrame({\"Purchase Count\": purchase_count_items,\n",
    "                                \"Item Price\": item_price_items,\n",
    "                                \"Total Purchase Value\": total_purchase_value_items})\n",
    "\n",
    "# Sort data frame by total purchase value in descending order\n",
    "profitable_items_df = profitable_items_df.sort_values(\"Total Purchase Value\", ascending=False)\n",
    "\n",
    "# Format data\n",
    "profitable_items_df[\"Item Price\"] = profitable_items_df[\"Item Price\"].map(\"${:,.2f}\".format)\n",
    "profitable_items_df[\"Total Purchase Value\"] = profitable_items_df[\"Total Purchase Value\"].map(\"${:,.2f}\".format)\n",
    "\n",
    "# Display preview of purchasing analysis by most profitable items\n",
    "profitable_items_df.head(5)"
   ]
  },
  {
   "cell_type": "code",
   "execution_count": null,
   "metadata": {},
   "outputs": [],
   "source": []
  }
 ],
 "metadata": {
  "anaconda-cloud": {},
  "kernel_info": {
   "name": "python3"
  },
  "kernelspec": {
   "display_name": "Python 3",
   "language": "python",
   "name": "python3"
  },
  "language_info": {
   "codemirror_mode": {
    "name": "ipython",
    "version": 3
   },
   "file_extension": ".py",
   "mimetype": "text/x-python",
   "name": "python",
   "nbconvert_exporter": "python",
   "pygments_lexer": "ipython3",
   "version": "3.8.5"
  },
  "latex_envs": {
   "LaTeX_envs_menu_present": true,
   "autoclose": false,
   "autocomplete": true,
   "bibliofile": "biblio.bib",
   "cite_by": "apalike",
   "current_citInitial": 1,
   "eqLabelWithNumbers": true,
   "eqNumInitial": 1,
   "hotkeys": {
    "equation": "Ctrl-E",
    "itemize": "Ctrl-I"
   },
   "labels_anchors": false,
   "latex_user_defs": false,
   "report_style_numbering": false,
   "user_envs_cfg": false
  },
  "nteract": {
   "version": "0.2.0"
  }
 },
 "nbformat": 4,
 "nbformat_minor": 2
}
